{
 "cells": [
  {
   "cell_type": "markdown",
   "id": "8ce08bb0-5842-48c6-9b93-a280ac178c4b",
   "metadata": {},
   "source": [
    "**The Metric: Neighborhood Safety**\n",
    "\n",
    "I used the Pittsburgh Police Arrests (2024–2025) data from the WPRDC\n",
    " to evaluate neighborhood safety as one aspect of “bestness.”\n",
    "\n",
    "--------------------------------------------------------------------------------------------------------------------------------------------------------\n",
    "\n",
    "**The Metrics:**\n",
    "**Total Arrests**: Neighborhoods with fewer arrests are generally safer and have lower crime rates, which contributes to a higher quality of life.\n",
    "\n",
    "**Charge Severity**: The type of charges (Felony, Misdemeanor, Infraction) reflects how serious crimes are in each neighborhood. Even if two areas have the same number of arrests, one may be safer if those arrests are mostly minor offenses.\n",
    "\n",
    "Together, these metrics show not only how often arrests happen but also how severe those incidents tend to be, offering a balanced view of neighborhood safety."
   ]
  },
  {
   "cell_type": "code",
   "execution_count": null,
   "id": "65c67a56-c94f-42c5-a78c-89d5ef5a37b0",
   "metadata": {},
   "outputs": [],
   "source": []
  }
 ],
 "metadata": {
  "kernelspec": {
   "display_name": "Python 3 (ipykernel)",
   "language": "python",
   "name": "python3"
  },
  "language_info": {
   "codemirror_mode": {
    "name": "ipython",
    "version": 3
   },
   "file_extension": ".py",
   "mimetype": "text/x-python",
   "name": "python",
   "nbconvert_exporter": "python",
   "pygments_lexer": "ipython3",
   "version": "3.11.13"
  }
 },
 "nbformat": 4,
 "nbformat_minor": 5
}
