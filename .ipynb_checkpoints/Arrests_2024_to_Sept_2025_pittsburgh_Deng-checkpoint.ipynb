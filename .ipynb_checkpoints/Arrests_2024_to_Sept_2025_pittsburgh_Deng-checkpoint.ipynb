{
 "cells": [
  {
   "cell_type": "markdown",
   "id": "8ce08bb0-5842-48c6-9b93-a280ac178c4b",
   "metadata": {},
   "source": [
    "**The Metric: Neighborhood Safety**\n",
    "\n",
    "I used the Pittsburgh Police Arrests (2024–2025) data from the WPRDC\n",
    " to evaluate neighborhood safety as one aspect of “bestness.”\n",
    "\n",
    "--------------------------------------------------------------------------------------------------------------------------------------------------------\n",
    "\n",
    "**The Metrics:**\n",
    "**Total Arrests**: Neighborhoods with fewer arrests are generally safer and have lower crime rates, which contributes to a higher quality of life.\n",
    "\n",
    "**Charge Severity**: The type of charges (Felony, Misdemeanor, Infraction) reflects how serious crimes are in each neighborhood. Even if two areas have the same number of arrests, one may be safer if those arrests are mostly minor offenses.\n",
    "\n",
    "Together, these metrics show not only how often arrests happen but also how severe those incidents tend to be, offering a balanced view of neighborhood safety."
   ]
  },
  {
   "cell_type": "code",
   "execution_count": 14,
   "id": "65c67a56-c94f-42c5-a78c-89d5ef5a37b0",
   "metadata": {},
   "outputs": [
    {
     "name": "stdout",
     "output_type": "stream",
     "text": [
      "     Neighborhood  Arrest_Count\n",
      "0       Chartiers            14\n",
      "1     Saint Clair            15\n",
      "2       Ridgemont            16\n",
      "3  Swisshelm Park            17\n",
      "4   Regent Square            23\n",
      "5   New Homestead            28\n",
      "6   East Carnegie            29\n",
      "7         Oakwood            31\n",
      "8    Mount Oliver            35\n",
      "9          Esplen            35\n",
      "                 Neighborhood  Arrest_Count\n",
      "82                      Bluff           566\n",
      "83             Homewood North           590\n",
      "84             Homewood South           712\n",
      "85               East Liberty           761\n",
      "86                  Knoxville           778\n",
      "87                    Carrick           886\n",
      "88             East Allegheny          1418\n",
      "89           South Side Flats          2508\n",
      "90                        NaN          4129\n",
      "91  Central Business District          4310\n"
     ]
    }
   ],
   "source": [
    "import pandas as pd\n",
    "\n",
    "# Load the dataset\n",
    "df = pd.read_csv(\"arrests_2024_to_sept_2025.csv\")\n",
    "\n",
    "# Create an empty dictionary to store counts\n",
    "arrest_counts = {}\n",
    "\n",
    "# Iterate through each row\n",
    "for index, row in df.iterrows():\n",
    "    neighborhood = row['Neighborhood']            \n",
    "    if neighborhood not in arrest_counts:         #using the structure of https://www.py4e.com/html3/09-dictionaries\n",
    "        arrest_counts[neighborhood] = 1\n",
    "    else:\n",
    "        arrest_counts[neighborhood] = arrest_counts[neighborhood] + 1\n",
    "\n",
    "# Display the result\n",
    "# print (arrest_counts)\n",
    "\n",
    "arrest_df = pd.DataFrame(list(arrest_counts.items()), columns=[\"Neighborhood\", \"Arrest_Count\"])\n",
    "# Sort by number of arrests (ascending order)\n",
    "arrest_df = arrest_df.sort_values(by=\"Arrest_Count\", ascending=True)\n",
    "\n",
    "# Reset the index for clarity\n",
    "arrest_df = arrest_df.reset_index(drop=True)\n",
    "\n",
    "# Display the top neighborhoods\n",
    "print(arrest_df.head(10))\n",
    "\n",
    "\n"
   ]
  },
  {
   "cell_type": "code",
   "execution_count": null,
   "id": "13d9840c-6b1e-4b24-a99d-0303e0c5b768",
   "metadata": {},
   "outputs": [],
   "source": [
    "print(arrest_df.tail(10))"
   ]
  }
 ],
 "metadata": {
  "kernelspec": {
   "display_name": "Python 3 (ipykernel)",
   "language": "python",
   "name": "python3"
  },
  "language_info": {
   "codemirror_mode": {
    "name": "ipython",
    "version": 3
   },
   "file_extension": ".py",
   "mimetype": "text/x-python",
   "name": "python",
   "nbconvert_exporter": "python",
   "pygments_lexer": "ipython3",
   "version": "3.11.13"
  }
 },
 "nbformat": 4,
 "nbformat_minor": 5
}
